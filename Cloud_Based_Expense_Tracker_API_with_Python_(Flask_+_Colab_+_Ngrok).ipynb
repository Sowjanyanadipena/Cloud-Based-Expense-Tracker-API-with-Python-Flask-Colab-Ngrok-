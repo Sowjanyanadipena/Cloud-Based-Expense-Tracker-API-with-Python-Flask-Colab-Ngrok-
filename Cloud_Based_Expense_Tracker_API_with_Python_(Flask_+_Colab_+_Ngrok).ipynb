{
  "nbformat": 4,
  "nbformat_minor": 0,
  "metadata": {
    "colab": {
      "provenance": []
    },
    "kernelspec": {
      "name": "python3",
      "display_name": "Python 3"
    },
    "language_info": {
      "name": "python"
    }
  },
  "cells": [
    {
      "cell_type": "code",
      "execution_count": null,
      "metadata": {
        "colab": {
          "base_uri": "https://localhost:8080/"
        },
        "id": "zXsx5fnBzjyC",
        "outputId": "cfae397d-8147-4d2e-c520-09a53dde415c"
      },
      "outputs": [
        {
          "output_type": "stream",
          "name": "stdout",
          "text": [
            "Requirement already satisfied: flask in /usr/local/lib/python3.11/dist-packages (3.1.1)\n",
            "Requirement already satisfied: pyngrok in /usr/local/lib/python3.11/dist-packages (7.2.12)\n",
            "Requirement already satisfied: blinker>=1.9.0 in /usr/local/lib/python3.11/dist-packages (from flask) (1.9.0)\n",
            "Requirement already satisfied: click>=8.1.3 in /usr/local/lib/python3.11/dist-packages (from flask) (8.2.1)\n",
            "Requirement already satisfied: itsdangerous>=2.2.0 in /usr/local/lib/python3.11/dist-packages (from flask) (2.2.0)\n",
            "Requirement already satisfied: jinja2>=3.1.2 in /usr/local/lib/python3.11/dist-packages (from flask) (3.1.6)\n",
            "Requirement already satisfied: markupsafe>=2.1.1 in /usr/local/lib/python3.11/dist-packages (from flask) (3.0.2)\n",
            "Requirement already satisfied: werkzeug>=3.1.0 in /usr/local/lib/python3.11/dist-packages (from flask) (3.1.3)\n",
            "Requirement already satisfied: PyYAML>=5.1 in /usr/local/lib/python3.11/dist-packages (from pyngrok) (6.0.2)\n",
            "🔗 Public URL to access your app: NgrokTunnel: \"https://9d51c7dcca45.ngrok-free.app\" -> \"http://localhost:5000\"\n",
            " * Serving Flask app '__main__'\n",
            " * Debug mode: off\n"
          ]
        },
        {
          "output_type": "stream",
          "name": "stderr",
          "text": [
            "INFO:werkzeug:\u001b[31m\u001b[1mWARNING: This is a development server. Do not use it in a production deployment. Use a production WSGI server instead.\u001b[0m\n",
            " * Running on http://127.0.0.1:5000\n",
            "INFO:werkzeug:\u001b[33mPress CTRL+C to quit\u001b[0m\n"
          ]
        }
      ],
      "source": [
        "!pip install flask pyngrok\n",
        "\n",
        "from flask import Flask, request, jsonify\n",
        "from pyngrok import ngrok\n",
        "\n",
        "app = Flask(__name__)\n",
        "expenses = []\n",
        "\n",
        "@app.route('/')\n",
        "def home():\n",
        "    return \"💰 Expense Tracker API is running!\"\n",
        "\n",
        "@app.route('/expenses', methods=['GET'])\n",
        "def get_expenses():\n",
        "    return jsonify(expenses)\n",
        "\n",
        "@app.route('/expense', methods=['POST'])\n",
        "def add_expense():\n",
        "    data = request.json\n",
        "    expenses.append(data)\n",
        "    return jsonify({'message': 'Expense added successfully!'}), 201\n",
        "\n",
        "@app.route('/summary', methods=['GET'])\n",
        "def get_summary():\n",
        "    total = sum(item['amount'] for item in expenses)\n",
        "    return jsonify({'total_spent': total, 'entries': len(expenses)})\n",
        "\n",
        "# Ngrok tunnel\n",
        "ngrok.set_auth_token(\"30geHoT1aMnRTNfjV9ikF81VFEl_2GtTNuSpx4izEijjVthNU\")\n",
        "\n",
        "public_url = ngrok.connect(5000)\n",
        "print(\"🔗 Public URL to access your app:\", public_url)\n",
        "app.run()\n"
      ]
    }
  ]
}